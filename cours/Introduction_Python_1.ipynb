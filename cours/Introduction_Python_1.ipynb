{
  "nbformat": 4,
  "nbformat_minor": 0,
  "metadata": {
    "colab": {
      "provenance": []
    },
    "kernelspec": {
      "name": "python3",
      "display_name": "Python 3"
    },
    "language_info": {
      "name": "python"
    }
  },
  "cells": [
    {
      "cell_type": "markdown",
      "source": [
        "# Comment écrire du code ?"
      ],
      "metadata": {
        "id": "LtTmmJHvj1N-"
      }
    },
    {
      "cell_type": "code",
      "source": [
        "# Les commentaires commencent par \"#\"\n",
        "\n",
        "# Ces types de données sont les éléments de base que vous utiliserez fréquemment en\n",
        "# programmation pour représenter différentes informations et effectuer diverses opérations.\n",
        "\n",
        " #Int (Entier) : Utilisé pour stocker des nombres entiers, tels que:\n",
        "2\n",
        "# Float (Nombre à virgule flottante) : Utilisé pour stocker des nombres décimaux, tels que:\n",
        "2.4\n",
        "# String (Chaîne de caractères) : Utilisé pour stocker du texte, entouré de guillemets, comme :\n",
        "\"hello\"\n",
<<<<<<< HEAD
        "# Boolean (Booléen) : Utilisé pour effectuer des opérations logiques et des comparaisons,\n",
        "# avec les valeurs True (Vrai) ou False (Faux).\n",
        "True False\n"
=======
        "# Boolean (Booléen) : Utilisé pour effectuer des opérations logiques et des comparaisons, 
avec les valeurs True (Vrai) ou False (Faux).\n",
        "True False\n",
        "\n",
        "# Ces types de données sont les éléments de base que vous utiliserez fréquemment en programmation pour représenter différentes informations et effectuer diverses opérations."
>>>>>>> 345141a69c8110b261697afc7a7e2c80f13f932b
      ],
      "metadata": {
        "id": "HrpjbDwLj0ut"
      },
      "execution_count": null,
      "outputs": []
    },
    {
      "cell_type": "markdown",
      "source": [
        "<font color=\"#FF0000\">**Attention**:</font> Python distingue entre les majuscules et les minuscules. Par conséquent, 'TRUE' n'est pas équivalent à 'True'.\n"
      ],
      "metadata": {
        "id": "NHG033OkqGsh"
      }
    },
    {
      "cell_type": "markdown",
      "source": [
        "## Utiliser **print** affichera le résultat du calcul même si ce n'est pas la dernière ligne écrite"
      ],
      "metadata": {
        "id": "F4yeFL_glGq0"
      }
    },
    {
      "cell_type": "code",
      "source": [
        "# Exemple de print sur des Integer\n",
        "print(2 + 2)\n",
        "# Exemple de print sur des string\n",
        "print(\"Hello World\")"
      ],
      "metadata": {
        "colab": {
          "base_uri": "https://localhost:8080/"
        },
        "id": "WVI_sOaRkjbU",
        "outputId": "3dc54311-7e7e-46fb-90f0-f4971f702b3b"
      },
      "execution_count": null,
      "outputs": [
        {
          "output_type": "stream",
          "name": "stdout",
          "text": [
            "4\n",
            "Hello World\n"
          ]
        }
      ]
    },
    {
      "cell_type": "markdown",
      "source": [
        "\n",
        "\n",
        "\n",
        "#Ne pas utiliser la fonction print() affichera uniquement la dernière ligne\n"
      ],
      "metadata": {
        "id": "bqjEc_eQlOnm"
      }
    },
    {
      "cell_type": "code",
      "source": [
        "2+2\n",
        "\"Hello World\""
      ],
      "metadata": {
        "id": "jYWAeA8QlBvj",
        "colab": {
          "base_uri": "https://localhost:8080/",
          "height": 36
        },
        "outputId": "7d570569-a22f-446f-c28c-661cc11f3d50"
      },
      "execution_count": null,
      "outputs": [
        {
          "output_type": "execute_result",
          "data": {
            "text/plain": [
              "'Hello World'"
            ],
            "application/vnd.google.colaboratory.intrinsic+json": {
              "type": "string"
            }
          },
          "metadata": {},
          "execution_count": 2
        }
      ]
    },
    {
      "cell_type": "markdown",
      "source": [
        "#Il faut respecter les types de données"
      ],
      "metadata": {
        "id": "vb_FBQp0kNRV"
      }
    },
    {
      "cell_type": "code",
      "source": [
        "# Qu'est-ce qui se passe ?\n",
        "print(2+\"2\")\n",
        "# Erreur : Car les types de données ne correspondent pas.\n",
        "\n",
        "# Lorsque vous exécutez ce code sans la fonction print(), vous ne verrez que\n",
        "# le résultat de la dernière opération, qui est l'erreur générée par la ligne \"print(2 + \"2\")\".\n",
        "# Cette erreur se produit car vous essayez d'additionner un entier (2)\n",
        "# avec une chaîne de caractères (\"2\"), ce qui n'est pas une opération valide en Python.\n"
      ],
      "metadata": {
        "colab": {
          "base_uri": "https://localhost:8080/",
          "height": 163
        },
        "id": "eoXNRzNFlrxU",
        "outputId": "396ccaa6-282c-4f3e-b703-3404b039b292"
      },
      "execution_count": null,
      "outputs": [
        {
          "output_type": "error",
          "ename": "SyntaxError",
          "evalue": "ignored",
          "traceback": [
            "\u001b[0;36m  File \u001b[0;32m\"<ipython-input-4-606bacbe3a66>\"\u001b[0;36m, line \u001b[0;32m6\u001b[0m\n\u001b[0;31m    \"\"\"Cette erreur se produit car vous essayez d'additionner un entier (2) avec une chaîne de caractères (\"2\"), ce qui n'est pas une opération valide en Python.\u001b[0m\n\u001b[0m       ^\u001b[0m\n\u001b[0;31mSyntaxError\u001b[0m\u001b[0;31m:\u001b[0m invalid syntax\n"
          ]
        }
      ]
    },
    {
      "cell_type": "markdown",
      "source": [
        "#La concatenation"
      ],
      "metadata": {
        "id": "fIHSmXc4knpE"
      }
    },
    {
      "cell_type": "code",
      "source": [
        "# Si nous additionnons 2 données de type string, cela va les concaténer\n",
        "print(\"2\"+\"2\")\n",
        "# Concaténer 2 chaînes de caractères\n",
        "\n",
        "print(\"My name is\"+\" \"+\"Gamma\")\n",
        "# Concaténer 2 chaînes de caractères pour former une phrase\n"
      ],
      "metadata": {
        "id": "X2KepOIymqOZ",
        "colab": {
          "base_uri": "https://localhost:8080/"
        },
        "outputId": "248dd727-ccd1-4dc6-db11-587c9f090c3e"
      },
      "execution_count": null,
      "outputs": [
        {
          "output_type": "stream",
          "name": "stdout",
          "text": [
            "22\n",
            "My name is Gamma\n"
          ]
        }
      ]
    },
    {
      "cell_type": "markdown",
      "source": [
        "# Les variables\n",
        "\n",
        "\n",
        "\n",
        "<font color=\"#FF0000\">**Attention**:</font> Python distingue entre les majuscules et les minuscules. Par conséquent, 'TRUE' n'est pas équivalent à 'True'.\n",
        "\n"
      ],
      "metadata": {
        "id": "c4KzyGPVnhaT"
      }
    },
    {
      "cell_type": "code",
      "source": [
        "# Affectation de la valeur 1 à la variable x et affichage de sa valeur.\n",
        "x = 1\n",
        "print(x)"
      ],
      "metadata": {
        "colab": {
          "base_uri": "https://localhost:8080/"
        },
        "id": "XulGcM2mnku5",
        "outputId": "31e02dd3-558e-4092-e108-144c0e6b6a35"
      },
      "execution_count": null,
      "outputs": [
        {
          "output_type": "stream",
          "name": "stdout",
          "text": [
            "1\n"
          ]
        }
      ]
    },
    {
      "cell_type": "markdown",
      "source": [
        "# Fonctions\n",
        "Les fonctions sont des scripts écrits pour effectuer une tâche spécifique.\n"
      ],
      "metadata": {
        "id": "YpZJiV8HJp66"
      }
    },
    {
      "cell_type": "code",
      "source": [
        "# Dans une phrase, ma fonction renverra un âge et un nom\n",
        "def age_name(age, name):\n",
        "  \"\"\"\n",
        "    Concatène l'âge et le nom en une phrase descriptive.\n",
        "\n",
        "    Parameters:\n",
        "    age (int): L'âge de l'individu.\n",
        "    name (str): Le nom de l'individu.\n",
        "\n",
        "    Returns:\n",
        "    str: Une phrase descriptive contenant l'âge et le nom de l'individu.\n",
        "    \"\"\"\n",
        "    # La fonction prend deux arguments, age et name, et les concatène pour\n",
        "    #former une phrase descriptive\n",
        "    res = \"J'ai \" + str(age) + \" ans et je m'appelle \" + str(name)\n",
        "    return res\n",
        "\n",
        "# Appel de la fonction avec des valeurs spécifiques pour age et name\n",
        "print(age_name(23, \"Yamine\"))\n",
        "\n",
        "# Appel de la fonction en inversant l'ordre des arguments name et age\n",
        "age_name(name=\"Yamine\", age=23)\n"
      ],
      "metadata": {
        "colab": {
          "base_uri": "https://localhost:8080/",
          "height": 53
        },
        "id": "BzuvcP9NJyCE",
        "outputId": "cd20a008-425e-4208-ea10-8f40f96ce3c1"
      },
      "execution_count": null,
      "outputs": [
        {
          "output_type": "stream",
          "name": "stdout",
          "text": [
            "My age is 23 and my name is Yamine\n"
          ]
        },
        {
          "output_type": "execute_result",
          "data": {
            "text/plain": [
              "'My age is 23 and my name is Yamine'"
            ],
            "application/vnd.google.colaboratory.intrinsic+json": {
              "type": "string"
            }
          },
          "metadata": {},
          "execution_count": 25
        }
      ]
    },
    {
      "cell_type": "markdown",
      "source": [
        "# Variables locales et globales et comment définir une fonction"
      ],
      "metadata": {
        "id": "jAj-rfwXL4bP"
      }
    },
    {
      "cell_type": "markdown",
      "source": [
        "Variables globales sont celles définies en dehors des fonctions. Elles sont la première valeur vérifiée en dehors d'une fonction.\n",
        "Variables locales sont celles définies à l'intérieur d'une fonction. Elles sont la première valeur à l'intérieur de la fonction où elles ont été définies."
      ],
      "metadata": {
        "id": "rC1CpUs1N2Xs"
      }
    },
    {
      "cell_type": "code",
      "source": [
        "# res = 0 est la variable globale\n",
        "# Elle montrera cette affectation à res\n",
        "# Peu importe les noms des variables à l'intérieur de la fonction\n",
        "res = 0\n",
        "\n",
        "def add_1(var_int):\n",
        "     \"\"\"\n",
        "    Ajoute 5 à la variable d'entrée var_int.\n",
        "\n",
        "    Parameters:\n",
        "    var_int (int): Valeur numérique à laquelle 5 sera ajouté.\n",
        "\n",
        "    Returns:\n",
        "    int: Résultat de l'addition de var_int et 5.\n",
        "    \"\"\"\n",
        "    # Une variable locale res est définie à l'intérieur de la fonction\n",
        "    res = var_int + 5\n",
        "    return res\n",
        "\n",
        "add_1(0)\n",
        "\n",
        "def add_1(var_int=0):\n",
        "     \"\"\"\n",
        "    Retourne 5, indépendamment de la valeur d'entrée.\n",
        "\n",
        "    Parameters:\n",
        "    var_int (int, optional): Valeur numérique non utilisée dans cette fonction. Par défaut à 0.\n",
        "\n",
        "    Returns:\n",
        "    int: Valeur constante 5.\n",
        "    \"\"\"\n",
        "    # Une autre fonction add_1 avec un argument par défaut var_int=0\n",
        "    # Une variable locale res est définie à l'intérieur de la fonction\n",
        "    res = 0 + 5\n",
        "    return 5\n",
        "\n",
        "# La variable globale res reste inchangée\n",
        "res\n",
        "\n",
        "result = 0\n",
        "\n",
        "def add_1(var_int):\n",
        "  \"\"\"\n",
        "    Ajoute 1 à la variable d'entrée var_int.\n",
        "\n",
        "    Parameters:\n",
        "    var_int (int): Valeur numérique à laquelle 1 sera ajouté.\n",
        "\n",
        "    Returns:\n",
        "    int: Résultat de l'addition de var_int et 1.\n",
        "    \"\"\"\n",
        "    # Une variable locale result est définie à l'intérieur de la fonction\n",
        "    result = var_int + 1\n",
        "    return result\n",
        "\n",
        "add_1(1)\n"
      ],
      "metadata": {
        "colab": {
          "base_uri": "https://localhost:8080/"
        },
        "id": "GB9e4z3TL35j",
        "outputId": "598fc808-953d-4748-b43e-0d988d95926c"
      },
      "execution_count": null,
      "outputs": [
        {
          "output_type": "execute_result",
          "data": {
            "text/plain": [
              "2"
            ]
          },
          "metadata": {},
          "execution_count": 29
        }
      ]
    },
    {
      "cell_type": "markdown",
      "source": [
        "# Déclaration conditionnelle"
      ],
      "metadata": {
        "id": "Lnxo6ZooWY3y"
      }
    },
    {
      "cell_type": "code",
      "source": [
        "# Si _cdn1_ est vrai :\n",
        "#    _action1_\n",
        "# Sinon :\n",
        "#    _action2_\n",
        "\n",
        "age = 16\n",
        "if age < 18:\n",
        "    # Si l'âge est inférieur à 18, le résultat est \"mineur\"\n",
        "    res = \"mineur\"\n",
        "else:\n",
        "    # Sinon, le résultat est \"majeur\"\n",
        "    res = \"majeur\"\n",
        "\n",
        "print(res)\n",
        "\n",
        "# Conversion de devises en fonction du choix de la devise\n",
        "\n",
        "def euro_dollars(amount_euros):\n",
        "   \"\"\"\n",
        "    Convertit un montant en euros en dollars.\n",
        "\n",
        "    Parameters:\n",
        "    amount_euros (float): Montant en euros à convertir.\n",
        "\n",
        "    Returns:\n",
        "    float: Montant converti en dollars.\n",
        "    \"\"\"\n",
        "    # Cette fonction convertit un montant en euros en dollars\n",
        "    final_amount = amount_euros * 1.06\n",
        "    return final_amount\n",
        "\n",
        "def dollars_euro(dollar):\n",
        "   \"\"\"\n",
        "    Convertit un montant en dollars en euros.\n",
        "\n",
        "    Parameters:\n",
        "    dollar (float): Montant en dollars à convertir.\n",
        "\n",
        "    Returns:\n",
        "    float: Montant converti en euros.\n",
        "    \"\"\"\n",
        "    # Cette fonction convertit un montant en dollars en euros\n",
        "    return dollar * 0.84\n",
        "\n",
        "def convert_dollar_euro(amount, is_dollar=True):\n",
        "    \"\"\"\n",
        "    Convertit un montant en euros ou en dollars en fonction du paramètre is_dollar.\n",
        "\n",
        "    Parameters:\n",
        "    amount (float): Montant à convertir.\n",
        "    is_dollar (bool): Si True, convertit en euros, sinon en dollars.\n",
        "\n",
        "    Returns:\n",
        "    float: Montant converti.\n",
        "    \"\"\"\n",
        "    if is_dollar:\n",
        "        # Si is_dollar est True, la conversion se fait de dollars à euros\n",
        "        res = dollars_euro(amount)\n",
        "    else:\n",
        "        # Sinon, la conversion se fait d'euros à dollars\n",
        "        res = euro_dollars(amount)\n",
        "    return res\n",
        "\n",
        "print(convert_dollar_euro(3))\n",
        "print(convert_dollar_euro(3, False))"
      ],
      "metadata": {
        "colab": {
          "base_uri": "https://localhost:8080/"
        },
        "id": "lJyvHzyWWbo2",
        "outputId": "7f97ca03-e586-4ce8-a482-259243eed730"
      },
      "execution_count": null,
      "outputs": [
        {
          "output_type": "stream",
          "name": "stdout",
          "text": [
            "mineur\n",
            "2.52\n",
            "3.18\n"
          ]
        }
      ]
    },
    {
      "cell_type": "markdown",
      "source": [
        "# Comment utiliser une fonction"
      ],
      "metadata": {
        "id": "RNla1F5ygqbg"
      }
    },
    {
      "cell_type": "code",
      "source": [
        "# La fonction round ne fonctionne qu'avec des nombres\n",
        "# Si vous essayez de l'utiliser avec des chaînes de caractères (\"ok\" et \"okokok\" dans cet exemple),\n",
        "# cela provoquera une erreur.\n",
        "\n",
        "round(\"ok\", \"okokok\")\n",
        "\n",
        "# La fonction len (qui calcule la longueur) ne fonctionne qu'avec des chaînes de caractères.\n",
        "# Essayer de l'utiliser avec un nombre (324 dans cet exemple) provoquera également une erreur.\n",
        "\n",
        "len(324)\n",
        "\n"
      ],
      "metadata": {
        "colab": {
          "base_uri": "https://localhost:8080/",
          "height": 248
        },
        "id": "F2_EShuygyZU",
        "outputId": "fa535b2c-98d3-40e3-b71c-0e863fd835ce"
      },
      "execution_count": null,
      "outputs": [
        {
          "output_type": "error",
          "ename": "TypeError",
          "evalue": "ignored",
          "traceback": [
            "\u001b[0;31m---------------------------------------------------------------------------\u001b[0m",
            "\u001b[0;31mTypeError\u001b[0m                                 Traceback (most recent call last)",
            "\u001b[0;32m<ipython-input-37-b7f0af3559cd>\u001b[0m in \u001b[0;36m<cell line: 2>\u001b[0;34m()\u001b[0m\n\u001b[1;32m      1\u001b[0m \u001b[0;31m# round works only with numbers\u001b[0m\u001b[0;34m\u001b[0m\u001b[0;34m\u001b[0m\u001b[0m\n\u001b[0;32m----> 2\u001b[0;31m \u001b[0mround\u001b[0m\u001b[0;34m(\u001b[0m\u001b[0;34m\"ok\"\u001b[0m\u001b[0;34m,\u001b[0m\u001b[0;34m\"okokok\"\u001b[0m\u001b[0;34m)\u001b[0m\u001b[0;34m\u001b[0m\u001b[0;34m\u001b[0m\u001b[0m\n\u001b[0m\u001b[1;32m      3\u001b[0m \u001b[0;34m\u001b[0m\u001b[0m\n\u001b[1;32m      4\u001b[0m \u001b[0;31m# len\u001b[0m\u001b[0;34m\u001b[0m\u001b[0;34m\u001b[0m\u001b[0m\n\u001b[1;32m      5\u001b[0m \u001b[0mlen\u001b[0m\u001b[0;34m(\u001b[0m\u001b[0;36m324\u001b[0m\u001b[0;34m)\u001b[0m\u001b[0;34m\u001b[0m\u001b[0;34m\u001b[0m\u001b[0m\n",
            "\u001b[0;31mTypeError\u001b[0m: type str doesn't define __round__ method"
          ]
        }
      ]
    },
    {
      "cell_type": "code",
      "source": [
        "# minimum\n",
        "# La fonction min() renvoie la valeur minimale parmi les valeurs données en arguments.\n",
        "min(3, 4, 5, 2, 5)\n",
        "\n",
        "# maximum\n",
        "# La fonction max() renvoie la valeur maximale parmi les valeurs données en arguments.\n",
        "max(3, 4, 5, 2, 5)\n",
        "\n",
        "# compter le nombre de caractères\n",
        "# La fonction len() renvoie la longueur d'une chaîne de caractères,\n",
        "# c'est-à-dire le nombre de caractères qu'elle contient.\n",
        "len(\"coucou ca va?\")\n",
        "\n",
        "# Pour convertir en chaîne de caractères\n",
        "# La fonction str() convertit un nombre ou un autre type de données en une chaîne de caractères.\n",
        "str(9)\n",
        "\n",
        "# Pour convertir en entier\n",
        "# La fonction int() convertit une chaîne de caractères en un nombre entier (integer).\n",
        "int(\"9\")\n",
        "\n",
        "# Ajouter une chaîne de documentation à une fonction\n",
        "# Vous pouvez ajouter une chaîne de documentation (docstring) à une fonction en utilisant des triple guillemets.\n",
        "# Cette documentation explique l'utilisation de la fonction, les arguments qu'elle prend et leur signification.\n",
        "def convert_dollar_euro(amount, is_dollar=True):\n",
        " \"\"\"\n",
        "    Convertit un montant entre dollars et euros en fonction du paramètre is_dollar.\n",
        "\n",
        "    Parameters:\n",
        "    amount (float): Le montant à convertir.\n",
        "    is_dollar (bool, optional): La devise du montant à convertir. Si True,\n",
        "    le montant est en dollars et sera converti en euros. Si False,\n",
        "    le montant est en euros et sera converti en dollars. Par défaut à True.\n",
        "\n",
        "    Returns:\n",
        "    float: Le montant converti.\n",
        "    \"\"\"\n",
        "    if is_dollar:\n",
        "        res = dollars_euro(amount)\n",
        "    else:\n",
        "        res = euro_dollars(amount)\n",
        "    return res\n",
        "\n",
        "# Vous pouvez utiliser la fonction help() pour afficher la documentation d'une fonction.\n",
        "help(convert_dollar_euro)"
      ],
      "metadata": {
        "colab": {
          "base_uri": "https://localhost:8080/"
        },
        "id": "Gsxfyc3Lhls5",
        "outputId": "257b134a-fe47-4dca-ce1a-3fd2463a466c"
      },
      "execution_count": null,
      "outputs": [
        {
          "output_type": "stream",
          "name": "stdout",
          "text": [
            "Help on function convert_dollar_euro in module __main__:\n",
            "\n",
            "convert_dollar_euro(amount, is_dollar=True)\n",
            "    The function convert_dollar_euro has 2 arguments:\n",
            "    amount: is the amount that you have to convert\n",
            "    is_dollar: is the currency of your amount.\n",
            "    If is_dollar is true, you will convert in euro. \n",
            "    If not, you will convert in dollar\n",
            "\n"
          ]
        }
      ]
    }
  ]
}
