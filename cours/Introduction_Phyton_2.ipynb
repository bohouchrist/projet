{
  "nbformat": 4,
  "nbformat_minor": 0,
  "metadata": {
    "colab": {
      "provenance": []
    },
    "kernelspec": {
      "name": "python3",
      "display_name": "Python 3"
    },
    "language_info": {
      "name": "python"
    }
  },
  "cells": [
    {
      "cell_type": "markdown",
      "source": [
        "Explication des notions : Dans cette section, nous avons abordé les notions suivantes :\n",
        "\n",
        "- La création d’une fonction booléenne  définissant la fonction is_even().  \n",
        "  Cette fonction est une fonction booléenne et ramène les valeurs vraies ou faux si paire ou impaire.\n",
        "- List pour créer une liste de différents éléments appelés “items”. Elle est créée avec []\n",
        "- les methods ce sont des fonctions qui s’appliquent aux listes qui ont pour type (list) à la différence des fonctions définies les methods modifie et change complétement la liste\n",
        "- La condition statement : elle permet de créer des conditions spécifiques pour la réalisation d’une action, on utilise ici les mots clés : if , elif , else\n",
        "- Une boucle ‘FOR’\n",
        "- Compréhension de liste (List Comprehension)"
      ],
      "metadata": {
        "id": "1T8hrSj7SaFQ"
      }
    },
    {
      "cell_type": "markdown",
      "source": [
        "# Boolean\n",
        "\n",
        "La création d’une fonction booléenne définissant la fonction is_even().\n",
        "Cette fonction est une fonction booléenne et ramène les valeurs vraies ou faux si paire ou impaire."
      ],
      "metadata": {
        "id": "aD3TN3MNhLRy"
      }
    },
    {
      "cell_type": "code",
      "source": [
        "def is_even(num):\n",
        "    \"\"\"\n",
        "    Vérifie si un nombre est pair.\n",
        "\n",
        "    Cette fonction prend en entrée un nombre `num` et retourne True si le nombre est pair, sinon False.\n",
        "\n",
        "    Args:\n",
        "        num (int): Le nombre à vérifier.\n",
        "\n",
        "    Returns:\n",
        "        bool: True si le nombre est pair, False sinon.\n",
        "    \"\"\"\n",
        "    # \"%\" représente le reste d'une division\n",
        "    if num % 2 == 0:\n",
        "        result = True\n",
        "    else:\n",
        "        result = False\n",
        "    return result\n",
        "\n",
        "# Exemples d'utilisation\n",
        "print(is_even_Yamisne(2))\n",
        "\n",
        "# Résultat attendu : True\n",
        "\n",
        "print(is_even_Yamisne(3))\n",
        "\n",
        " # Résultat attendu : False\n",
        "\n"
      ],
      "metadata": {
        "id": "SyQ3Gb1HTKeJ"
      },
      "execution_count": null,
      "outputs": []
    },
    {
      "cell_type": "markdown",
      "source": [
        "# List\n",
        "the list are composed of different elements called items"
      ],
      "metadata": {
        "id": "dNoS4766i7ae"
      }
    },
    {
      "cell_type": "code",
      "source": [
        "\"\"\"\n",
        "Ce script Python comprend des exemples et des explications sur l'utilisation des listes en Python.\n",
        "\"\"\"\n",
        "\n",
        "# Crée une liste vide\n",
        "l = []\n",
        "# ou\n",
        "l = list()\n",
        "\n",
        "# Le type est une liste\n",
        "type([1, 2, 3, 4, 7])\n",
        "\n",
        "# Assigner l à une liste\n",
        "l = [1, 2, 3, 4, 7, 5]\n",
        "\n",
        "# Vérifie quelle est la première valeur de l\n",
        "l[0]\n",
        "\n",
        "# Changeons la troisième valeur en 1\n",
        "l[2] = 1\n",
        "l\n",
        "\n",
        "# Observons la valeur du dernier élément\n",
        "l[-1]\n",
        "\n",
        "# Observons tous les éléments avant le dernier\n",
        "l[:-1]\n",
        "l[0:-1]  # Galaad\n",
        "\n",
        "# Observons tous les éléments de la troisième position jusqu'à la fin\n",
        "l[2:]\n",
        "\n",
        "# Inverser l'ordre de la liste l\n",
        "l[::-1]\n",
        "\n",
        "# Prenons les 2 premiers éléments et inverser l'ordre\n",
        "l[0:2][::-1]\n",
        "l[0:2:-1]  # Ne fonctionne pas car cela inverse d'abord la liste\n",
        "l[0:2:-1]\n",
        "\n",
        "# Découpons la liste. Travaillons uniquement sur la sous-liste de la première à la troisième position\n",
        "l[0:2]  # De la position 1 à la position 2\n",
        "l[0:3]  # De la position 1 à la position 3\n",
        "[l[0], l[3]]  # Prendre seulement les valeurs de la position 1 et de la position 4\n",
        "\n",
        "# Crée une liste avec des booléens, des entiers, des décimaux et des chaînes de caractères\n",
        "new_list = [True, 1, 2.5, \"abc\"]\n",
        "new_list\n",
        "\n",
        "# Crée une liste de listes\n",
        "even_odd_list = [1, 3, 5, 7, 2, 4, 6]\n",
        "even_odd_list = [[1, 3, 5, 7], [2, 4, 6]]\n",
        "# Récupère le deuxième élément de la deuxième liste\n",
        "even_odd_list[1][1]\n",
        "\n",
        "new_list = [[1, 3, 5, 7], [2, 4, [1, 3, 5, 7], [2, 4, 6], 6], [2, 4, 6]]\n",
        "\n",
        "\n",
        "\n"
      ],
      "metadata": {
        "id": "oX3D7Np6jCIB"
      },
      "execution_count": 3,
      "outputs": []
    },
    {
      "cell_type": "code",
      "source": [
        "\"\"\"\n",
        "Ce script Python comprend des exemples et des explications sur l'utilisation des listes en Python.\n",
        "\"\"\"\n",
        "\n",
        "# Crée une liste\n",
        "l = [1, 2, 3, 4, 7]\n",
        "\n",
        "# Crée une nouvelle liste `new_l` en extrayant les éléments de la position 2 jusqu'au début de la liste,\n",
        "# avec inversion de l'ordre.\n",
        "new_l = l[2::-1]\n",
        "\n",
        "# Affiche la nouvelle liste\n",
        "print(new_l)\n"
      ],
      "metadata": {
        "colab": {
          "base_uri": "https://localhost:8080/"
        },
        "id": "Sh466BmO-aj2",
        "outputId": "868ebf0a-b084-4636-f552-afdc4636ecde"
      },
      "execution_count": 4,
      "outputs": [
        {
          "output_type": "stream",
          "name": "stdout",
          "text": [
            "[3, 2, 1]\n"
          ]
        }
      ]
    },
    {
      "cell_type": "code",
      "source": [
        "\"\"\"\n",
        "Ce script Python contient des informations sur différentes zones d'une maison, avec leurs dimensions.\n",
        "\"\"\"\n",
        "\n",
        "# Dimensions de chaque zone de la maison\n",
        "hall = 11.25  # Dimensions du hall en mètres carrés\n",
        "kit = 18.0  # Dimensions de la cuisine en mètres carrés\n",
        "liv = 20.0  # Dimensions du salon en mètres carrés\n",
        "bed = 10.75  # Dimensions de la chambre en mètres carrés\n",
        "bath = 9.50  # Dimensions de la salle de bains en mètres carrés\n",
        "\n",
        "# Liste contenant les noms des zones et leurs dimensions\n",
        "areas = [\"hallway\", hall, \"kitchen\", kit, \"living room\", liv,\n",
        "         \"bedroom\", bed, \"bathroom\", bath]\n",
        "\n",
        "# Sélection des 4 derniers éléments de la liste (zones de la maison)\n",
        "areas[-4:]\n",
        "\n",
        "# Sélection de tous les éléments de la liste sauf les 2 derniers (noms des zones et leurs dimensions)\n",
        "areas[:-2]\n"
      ],
      "metadata": {
        "colab": {
          "base_uri": "https://localhost:8080/"
        },
        "id": "uEghiXJ98_Hl",
        "outputId": "1fcce0bf-88bf-4884-e407-392c0c11b92d"
      },
      "execution_count": 5,
      "outputs": [
        {
          "output_type": "execute_result",
          "data": {
            "text/plain": [
              "['hallway', 11.25, 'kitchen', 18.0, 'living room', 20.0, 'bedroom', 10.75]"
            ]
          },
          "metadata": {},
          "execution_count": 5
        }
      ]
    },
    {
      "cell_type": "markdown",
      "source": [
        "## Les methodes\n",
        "Les methodes (methods) ce sont des fonctions qui s’appliquent aux listes qui ont pour type (list) à la différence des fonctions définies les methods modifient et changent complétement la liste\n",
        "\n"
      ],
      "metadata": {
        "id": "pyqm5A3k31BV"
      }
    },
    {
      "cell_type": "code",
      "source": [
        "\"\"\"\n",
        "Ce script Python présente l'utilisation des méthodes d'une liste pour ajouter, supprimer des éléments et trouver l'index d'un élément.\n",
        "\"\"\"\n",
        "\n",
        "# Crée une nouvelle liste `new_list2` contenant des éléments\n",
        "new_list2 = [1, 2, \"e\"]\n",
        "print(new_list2)\n",
        "\n",
        "# Ajoute l'élément \"Hello\" à la liste\n",
        "new_list2.append(\"Hello\")\n",
        "print(new_list2)\n",
        "\n",
        "# Enlève le dernier élément ajouté dans la liste\n",
        "new_list2.pop()\n",
        "print(new_list2)\n",
        "\n",
        "# Utilise la méthode `index` pour trouver la position de l'élément \"e\" dans la liste\n",
        "position_e = new_list2.index(\"e\")\n",
        "print(\"La position de 'e' dans la liste est :\", position_e)\n",
        "\n",
        "# Pour enlever un élément spécifique, supprimons le nombre 1 de la liste\n",
        "new_list2.remove(1)\n",
        "print(new_list2)\n"
      ],
      "metadata": {
        "id": "Z47WOgVc360U"
      },
      "execution_count": null,
      "outputs": []
    },
    {
      "cell_type": "markdown",
      "source": [
        "# Les structures conditionnelles\n",
        "Avec plus de deux options.\n",
        "\n",
        "**Les structures de contrôle conditionnelles** (ou plus simplement conditions) vont nous permettre d’exécuter différents blocs de code selon qu’une condition spécifique soit vérifiée ou pas.\n",
        "\n",
        "Nous allons très souvent utiliser les conditions avec des variables : selon la valeur stockée dans une variable, nous allons vouloir exécuter un bloc de code plutôt qu’un autre.\n",
        "\n",
        "Python nous fournit les structures conditionnelles suivantes :\n",
        "\n",
        "- La condition if (“si”) ;\n",
        "- La condition if…else (“si…sinon”) ;\n",
        "- La condition if…elif…else (“si…sinon si… sinon”)"
      ],
      "metadata": {
        "id": "1tc0rLjuhxyM"
      }
    },
    {
      "cell_type": "code",
      "source": [
        "def surface_room(room_name):\n",
        "    \"\"\"\n",
        "    Cette fonction calcule la superficie d'une pièce en fonction de son nom.\n",
        "\n",
        "    Args:\n",
        "        room_name (str): Le nom de la pièce (en minuscules).\n",
        "\n",
        "    Returns:\n",
        "        float or str: La superficie de la pièce si le nom est valide, sinon un message d'erreur.\n",
        "    \"\"\"\n",
        "\n",
        "    # Utilisation de la structure de contrôle if-elif-else pour déterminer la superficie en fonction du nom de la pièce\n",
        "    if room_name == \"hallway\":\n",
        "        res = hall\n",
        "    elif room_name == \"kitchen\":\n",
        "        res = kit\n",
        "    elif room_name == \"living room\":\n",
        "        res = liv\n",
        "    elif room_name == \"bathroom\":\n",
        "        res = bath\n",
        "    elif room_name == \"bedroom\":\n",
        "        res = bed\n",
        "    else:\n",
        "        res = \"Veuillez réessayer avec un nom de pièce correct\"\n",
        "\n",
        "    return res\n",
        "\n",
        "# Exemples d'utilisation de la fonction surface_room\n",
        "print(surface_room(\"bedroom\"))\n",
        "# Résultat attendu : la superficie de la chambre\n",
        "print(surface_room(\"BEDROOM\"))\n",
        "# Résultat attendu : un message d'erreur\n",
        "\n"
      ],
      "metadata": {
        "colab": {
          "base_uri": "https://localhost:8080/"
        },
        "id": "4bOvEbbVTdIi",
        "outputId": "afb4ffa6-a5f5-470a-b363-b4c77fa0f96b"
      },
      "execution_count": null,
      "outputs": [
        {
          "output_type": "stream",
          "name": "stdout",
          "text": [
            "10.75\n",
            "Try again with a correct room name\n"
          ]
        },
        {
          "output_type": "execute_result",
          "data": {
            "text/plain": [
              "45"
            ]
          },
          "metadata": {},
          "execution_count": 72
        }
      ]
    },
    {
      "cell_type": "markdown",
      "source": [
        "# La Boucle FOR\n",
        "La boucle `for` est une structure de contrôle en programmation qui permet d'itérer (parcourir) sur un ensemble d'éléments, comme une liste, un tuple, une chaîne de caractères, etc. Elle est couramment utilisée pour effectuer une opération répétée sur chaque élément de cet ensemble. Voici une explication concise de son utilisation :\n",
        "\n",
        "1. **Itération sur une séquence** : La boucle `for` est principalement utilisée pour itérer sur une séquence d'éléments. Par exemple, une liste d'entiers `[1, 2, 3, 4, 5]` ou une chaîne de caractères `\"Python\"`.\n",
        "\n",
        "2. **Syntaxe de base** : La syntaxe de base d'une boucle `for` en Python est la suivante :\n",
        "   \n",
        "   ```python\n",
        "   for element in sequence:\n",
        "       # Code à exécuter pour chaque élément\n",
        "   ```\n",
        "\n",
        "   - `element` est une variable temporaire qui prend la valeur de chaque élément de la séquence à chaque itération.\n",
        "   - `sequence` est la séquence sur laquelle vous itérez, par exemple, une liste.\n",
        "\n",
        "3. **Exécution répétée** : Le code à l'intérieur de la boucle `for` est exécuté pour chaque élément de la séquence. Cela permet de répéter des opérations sur chaque élément sans avoir à répéter manuellement le code.\n",
        "\n",
        "4. **Utilisation de `range`** : La fonction `range` est souvent utilisée pour générer une séquence d'entiers à itérer. Par exemple, `for i in range(5)` itérera de 0 à 4 (inclus).\n",
        "\n",
        "5. **Manipulation d'indices** : Parfois, vous pouvez avoir besoin d'accéder à la position (indice) de chaque élément dans la séquence. Vous pouvez utiliser la fonction `enumerate` pour cela. Par exemple :\n",
        "\n",
        "   ```python\n",
        "   for index, element in enumerate(sequence):\n",
        "       # index contient la position de l'élément dans la séquence\n",
        "       # element contient la valeur de l'élément\n",
        "   ```\n",
        "\n",
        "6. **Sortie anticipée** : Vous pouvez utiliser l'instruction `break` pour sortir prématurément de la boucle si une condition est remplie.\n",
        "\n",
        "La boucle `for` est un outil puissant pour automatiser des tâches répétitives et traiter efficacement de grandes quantités de données dans la programmation. Elle est largement utilisée pour parcourir des listes, des dictionnaires, des fichiers, et bien d'autres types de données."
      ],
      "metadata": {
        "id": "kC-5Ixtjh_FD"
      }
    },
    {
      "cell_type": "code",
      "source": [
        "\"\"\"\n",
        "Ce script Python calcule la superficie d'une pièce en fonction de son nom en utilisant une liste prédéfinie de noms de pièces.\n",
        "\"\"\"\n",
        "\n",
        "# Liste des noms de pièces\n",
        "areas_name = [\"hallway\", \"kitchen\", \"living room\", \"bedroom\", \"bathroom\"]\n",
        "\n",
        "def surface_room(room_name):\n",
        "    \"\"\"\n",
        "    Calcule la superficie d'une pièce en fonction de son nom.\n",
        "\n",
        "    Args:\n",
        "        room_name (str): Le nom de la pièce (en minuscules).\n",
        "\n",
        "    Returns:\n",
        "        float or str: La superficie de la pièce si le nom est valide, sinon un message d'erreur.\n",
        "    \"\"\"\n",
        "\n",
        "    # Met le nom de la pièce en minuscules pour éviter les problèmes de casse\n",
        "    room_name = room_name.lower()\n",
        "\n",
        "    # Utilisation de la structure de contrôle if-elif-else pour déterminer la superficie en fonction du nom de la pièce\n",
        "    if room_name == \"hallway\":\n",
        "        result = hall\n",
        "    elif room_name == \"kitchen\":\n",
        "        result = kit\n",
        "    elif room_name == \"living room\":\n",
        "        result = liv\n",
        "    elif room_name == \"bathroom\":\n",
        "        result = bath\n",
        "    elif room_name == \"bedroom\":\n",
        "        result = bed\n",
        "    else:\n",
        "        result = \"Veuillez réessayer avec un nom de pièce correct\"\n",
        "\n",
        "    return result\n",
        "\n",
        "# Appel de la fonction surface_room avec différents noms de pièces\n",
        "surface_room(\"hall\")\n",
        "surface_room(\"kit\")\n",
        "surface_room(\"liv\")\n",
        "\n",
        "# Utilisation d'une boucle for pour calculer la superficie de toutes les pièces de la liste areas_name\n",
        "for i in range(len(areas_name)):\n",
        "    print(surface_room(areas_name[i]))\n"
      ],
      "metadata": {
        "colab": {
          "base_uri": "https://localhost:8080/"
        },
        "id": "VRVQeLZtiL2Q",
        "outputId": "88bab02f-ce8a-44cb-9fd4-f3365410383d"
      },
      "execution_count": null,
      "outputs": [
        {
          "output_type": "stream",
          "name": "stdout",
          "text": [
            "11.25\n",
            "18.0\n",
            "20.0\n",
            "10.75\n",
            "9.5\n"
          ]
        }
      ]
    },
    {
      "cell_type": "markdown",
      "source": [
        "## Liste de compréhension (List comprehension)\n",
        "La compréhension de liste (list comprehension en anglais) est une construction syntaxique en Python qui permet de créer des listes de manière concise et élégante en utilisant une seule ligne de code. Elle est couramment utilisée pour appliquer une opération à chaque élément d'une séquence (comme une liste) et générer une nouvelle liste basée sur les résultats de cette opération. Voici une définition et un exemple d'utilisation concis :\n",
        "\n",
        "**Définition :**\n",
        "\n",
        "La compréhension de liste est une manière concise de créer une nouvelle liste en Python en appliquant une expression à chaque élément d'une séquence existante (comme une liste, un tuple, etc.).\n",
        "\n",
        "**Syntaxe de base :**\n",
        "\n",
        "La syntaxe de base de la compréhension de liste est la suivante :\n",
        "\n",
        "```python\n",
        "nouvelle_liste = [expression for élément in séquence originale]\n",
        "```\n",
        "\n",
        "- `nouvelle_liste` est la nouvelle liste que vous créez.\n",
        "- `expression` est l'opération que vous souhaitez effectuer sur chaque élément de la séquence.\n",
        "- `élément` est une variable temporaire qui prend la valeur de chaque élément de la séquence originale.\n",
        "- `séquence originale` est la séquence sur laquelle vous itérez.\n",
        "\n",
        "**Exemple d'utilisation :**\n",
        "\n",
        "Supposons que nous ayons une liste de nombres et que nous voulions créer une nouvelle liste qui contient le carré de chaque nombre. Voici comment cela peut être fait avec une compréhension de liste :\n",
        "\n",
        "```python\n",
        "nombres = [1, 2, 3, 4, 5]\n",
        "carres = [x**2 for x in nombres]\n",
        "```\n",
        "\n",
        "Dans cet exemple, `carres` sera égal à `[1, 4, 9, 16, 25]`, car l'expression `x**2` est appliquée à chaque élément `x` de la liste `nombres`.\n",
        "\n",
        "La compréhension de liste est appréciée pour sa simplicité et sa lisibilité, et elle est souvent utilisée pour effectuer des opérations de filtrage, de transformation ou de génération de données de manière efficace en Python. Elle permet d'éviter l'écriture de boucles `for` explicites pour des tâches simples."
      ],
      "metadata": {
        "id": "7j98FqZYx-V8"
      }
    },
    {
      "cell_type": "code",
      "source": [
        "\"\"\"\n",
        "Ce script Python illustre l'utilisation de la compréhension de liste pour créer une nouvelle liste contenant les carrés des nombres.\n",
        "\"\"\"\n",
        "\n",
        "# Crée une liste de nombres\n",
        "nombres = [1, 2, 3, 4, 5]\n",
        "\n",
        "# Utilise une compréhension de liste pour créer une nouvelle liste contenant les carrés des nombres\n",
        "carres = [x**2 for x in nombres]\n",
        "\n",
        "# Affiche la liste résultante\n",
        "print(carres)\n",
        "# Résultat attendu : [1, 4, 9, 16, 25]\n",
        "\n"
      ],
      "metadata": {
        "colab": {
          "base_uri": "https://localhost:8080/"
        },
        "id": "O-25TZ2RgZm5",
        "outputId": "ea37f901-ac06-4238-ca78-6dc1226367d8"
      },
      "execution_count": 6,
      "outputs": [
        {
          "output_type": "stream",
          "name": "stdout",
          "text": [
            "[1, 4, 9, 16, 25]\n"
          ]
        }
      ]
    },
    {
      "cell_type": "code",
      "source": [
        "\"\"\"\n",
        "Ce script Python démontre l'utilisation de différentes opérations sur une liste d'aires de pièces.\n",
        "\"\"\"\n",
        "\n",
        "# Crée une liste d'aires de pièces\n",
        "areas = [11.25, 18.0, 20.0, 10.75, 9.50]\n",
        "\n",
        "# Ajoute deux nouvelles aires à la liste\n",
        "areas.append(24.5)\n",
        "areas.append(15.45)\n",
        "\n",
        "# Affiche la liste des aires (y compris les ajouts)\n",
        "print(areas)\n",
        "# Résultat attendu : [11.25, 18.0, 20.0, 10.75, 9.50, 24.5, 15.45]\n",
        "\n",
        "# Affiche la liste des aires dans l'ordre inverse sans modifier la liste originale\n",
        "print(areas[::-1])\n",
        "# Résultat attendu : [15.45, 24.5, 9.50, 10.75, 20.0, 18.0, 11.25]\n",
        "\n",
        "# La liste originale n'a pas été modifiée par l'opération précédente\n",
        "print(areas)\n",
        "# Reste : [11.25, 18.0, 20.0, 10.75, 9.50, 24.5, 15.45]\n",
        "\n",
        "# Inverse la liste dans place (modifie la liste originale)\n",
        "areas.reverse()\n",
        "\n",
        "# Affiche la liste des aires après inversion\n",
        "print(areas)\n",
        "# Résultat attendu : [15.45, 24.5, 9.50, 10.75, 20.0, 18.0, 11.25]\n"
      ],
      "metadata": {
        "colab": {
          "base_uri": "https://localhost:8080/"
        },
        "id": "s6xF7-jvwXvd",
        "outputId": "0e4577b2-0368-4dd0-b808-6e90aa639ec0"
      },
      "execution_count": 7,
      "outputs": [
        {
          "output_type": "stream",
          "name": "stdout",
          "text": [
            "[11.25, 18.0, 20.0, 10.75, 9.5, 24.5, 15.45]\n",
            "[15.45, 24.5, 9.5, 10.75, 20.0, 18.0, 11.25]\n",
            "[11.25, 18.0, 20.0, 10.75, 9.5, 24.5, 15.45]\n",
            "[15.45, 24.5, 9.5, 10.75, 20.0, 18.0, 11.25]\n"
          ]
        }
      ]
    }
  ]
}