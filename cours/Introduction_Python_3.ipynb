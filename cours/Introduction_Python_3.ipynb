{
  "cells": [
    {
      "cell_type": "markdown",
      "metadata": {
        "id": "UFMrM9DakZzx"
      },
      "source": [
        "# WHILE LOOP\n",
        "### Une boucle while exécute répétitivement un bloc de code tant qu'une condition donnée est vraie."
      ]
    },
    {
      "cell_type": "code",
      "execution_count": null,
      "metadata": {
        "colab": {
          "base_uri": "https://localhost:8080/"
        },
        "id": "Qqqwc033dtkA",
        "outputId": "14c403ae-a626-4d2f-8ee7-c90e81c5bf74"
      },
      "outputs": [
        {
          "name": "stdout",
          "output_type": "stream",
          "text": [
            "For loop\n",
            "1\n",
            "2\n",
            "3\n",
            "4\n",
            "5\n",
            "6\n",
            "7\n",
            "8\n",
            "9\n",
            "10\n",
            "While loop\n",
            "1\n",
            "2\n",
            "3\n",
            "4\n",
            "5\n",
            "6\n",
            "7\n",
            "8\n",
            "9\n",
            "10\n"
          ]
        }
      ],
      "source": [
        "# Affichage des nombres de 1 à 10 en utilisant une boucle for\n",
        "print(\"For loop\")\n",
        "# La boucle for utilise la fonction range() pour itérer sur chaque nombre de 1 à 10 (11 est exclus).\n",
        "for i in range(1,11):\n",
        "    \"\"\"\n",
        "    La boucle for itère sur une séquence générée par range(1, 11), qui produit les nombres de 1 à 10.\n",
        "    À chaque itération, le nombre courant est imprimé.\n",
        "    \"\"\"\n",
        "    print(i)\n",
        "\n",
        "# Affichage des nombres de 1 à 10 en utilisant une boucle while\n",
        "print(\"While loop\")\n",
        "# Initialisation de la variable i à 1.\n",
        "i=1\n",
        "# La boucle while continue de s'exécuter tant que la condition (i < 11) est vraie.\n",
        "while i<11:\n",
        "    \"\"\"\n",
        "    La boucle while vérifie si la condition (i < 11) est vraie.\n",
        "    Si elle est vraie, le nombre courant est imprimé et i est incrémenté de 1.\n",
        "    La boucle continue jusqu'à ce que i soit égal à 11.\n",
        "    \"\"\"\n",
        "    print(i)\n",
        "    # Incrémentation de la variable i de 1 à chaque itération.\n",
        "    i=i+1 # i+=1 fait la même chose"
      ]
    },
    {
      "cell_type": "code",
      "execution_count": null,
      "metadata": {
        "colab": {
          "base_uri": "https://localhost:8080/"
        },
        "id": "n5mKUUfH5egH",
        "outputId": "debb1718-5687-4a0a-e7b0-64363639e569"
      },
      "outputs": [
        {
          "name": "stdout",
          "output_type": "stream",
          "text": [
            "1\n",
            "3\n",
            "5\n",
            "7\n",
            "9\n",
            "11\n",
            "13\n",
            "15\n",
            "17\n",
            "19\n",
            "error in odd_or_event parameter\n",
            "3\n",
            "3\n",
            "3\n",
            "3\n",
            "3\n"
          ]
        }
      ],
      "source": [
        "def n_print(n, odd_or_even):\n",
        "    \"\"\"\n",
        "    Imprime les nombres pairs ou impairs de 1 à n en fonction du paramètre odd_or_even.\n",
        "\n",
        "    Parameters:\n",
        "    n (int): La limite supérieure des nombres à imprimer.\n",
        "    odd_or_even (str): Une chaîne indiquant si l'utilisateur souhaite imprimer des nombres \"pair\" ou \"impair\".\n",
        "    \"\"\"\n",
        "    i = 1\n",
        "    while i <= n:\n",
        "        if odd_or_even == \"impair\" and i % 2 != 0:\n",
        "            print(i)\n",
        "        elif odd_or_even == \"pair\" and i % 2 == 0:\n",
        "            print(i)\n",
        "        i = i + 1\n",
        "\n",
        "# Appel de la fonction avec les paramètres 19 et \"impair\"\n",
        "n_print(19, \"impair\")\n",
        "\n",
        "def n_print(n, odd_or_even):\n",
        "    \"\"\"\n",
        "    Imprime les nombres pairs ou impairs de 1 à n, ou retourne une erreur si le paramètre odd_or_even est invalide.\n",
        "\n",
        "    Parameters:\n",
        "    n (int): La limite supérieure des nombres à imprimer.\n",
        "    odd_or_even (str): Une chaîne indiquant si l'utilisateur souhaite imprimer des nombres \"pair\" ou \"impair\".\n",
        "    \"\"\"\n",
        "    i = 1\n",
        "    while i <= n:\n",
        "        if odd_or_even == \"impair\" and i % 2 != 0:\n",
        "            print(i)\n",
        "        elif odd_or_even == \"pair\" and i % 2 == 0:\n",
        "            print(i)\n",
        "        elif odd_or_even != \"pair\" and odd_or_even != \"impair\":\n",
        "            print(\"Erreur dans le paramètre odd_or_even\")\n",
        "            break\n",
        "        i = i + 1\n",
        "\n",
        "# Appel de la fonction avec les paramètres 19 et une chaîne invalide\n",
        "n_print(19, \"imopair\")\n",
        "\n"
      ]
    },
    {
      "cell_type": "markdown",
      "metadata": {
        "id": "Ra7-I7VjGDGd"
      },
      "source": [
        "## Rappel: Local and global variable"
      ]
    },
    {
      "cell_type": "code",
      "execution_count": null,
      "metadata": {
        "colab": {
          "base_uri": "https://localhost:8080/"
        },
        "id": "PSdCc9x0GJhb",
        "outputId": "476bbc9d-44d4-479f-cc20-1b86b2ebe4ca"
      },
      "outputs": [
        {
          "name": "stdout",
          "output_type": "stream",
          "text": [
            "0\n",
            "1\n",
            "2\n",
            "3\n",
            "4\n",
            "3\n",
            "3\n",
            "3\n",
            "3\n",
            "3\n",
            "3\n",
            "3\n",
            "3\n"
          ]
        }
      ],
      "source": [
        "# i est défini comme une variable globale avec la valeur 3\n",
        "# i est également utilisé comme variable dans la boucle for, prenant les valeurs de range(5)\n",
        "# Le i dans la boucle for est une variable locale\n",
        "# L'instruction print cherchera d'abord une variable locale i\n",
        "# et si elle n'existe pas, elle cherchera une variable globale\n",
        "\n",
        "# Exemple 1 où la valeur imprimée est la variable locale\n",
        "i = 3\n",
        "for i in range(5):\n",
        "    # i prend les valeurs de 0 à 4 (les valeurs produites par range(5))\n",
        "    print(i)  # i ici est la variable locale i, qui prend les valeurs de range(5)\n",
        "\n",
        "# Exemple 2 où la valeur imprimée est la variable globale\n",
        "i = 3\n",
        "for j in [0, True, 0, i, \"2\", 2, 2, 2]:\n",
        "    # j prend les valeurs de la liste [0, True, 0, i, \"2\", 2, 2, 2], mais i reste inchangé\n",
        "    print(i)  # i ici est la variable globale i, qui a la valeur 3\n"
      ]
    },
    {
      "cell_type": "markdown",
      "metadata": {
        "id": "0HpxDqBdJkCO"
      },
      "source": [
        "# Dictionnaire\n",
        "### Un dictionnaire est une structure de données qui stocke des paires de clé-valeur, permettant une récupération rapide des valeurs associées à chaque clé."
      ]
    },
    {
      "cell_type": "code",
      "execution_count": null,
      "metadata": {
        "colab": {
          "base_uri": "https://localhost:8080/"
        },
        "id": "-5dQuCYjI5qh",
        "outputId": "81270d36-cad7-46e0-91fb-50f22e38a7b0"
      },
      "outputs": [
        {
          "name": "stdout",
          "output_type": "stream",
          "text": [
            "{'hallway': 11.25, 'kitchen': 18}\n",
            "{'hallway': 11.25, 'kitchen': 18.0, 'living room': 20.0, 'bedroom': 10.75, 'bathroom': 9.5, 'poolsize': 9.5}\n"
          ]
        }
      ],
      "source": [
        "area_size = [11.25, 18.0, 20.0, 10.75, 9.50, 9.50]\n",
        "area_name = [\"hallway\", \"kitchen\", \"living room\", \"bedroom\", \"bathroom\", \"poolsize\"]\n",
        "\n",
        "# Création d'un dictionnaire\n",
        "dict_area = dict()\n",
        "# Initialisation de dict_area avec deux paires clé-valeur\n",
        "dict_area = {\"hallway\":11.25, \"kitchen\":18}\n",
        "# Affichage du dictionnaire\n",
        "print(dict_area)\n",
        "# Récupération et affichage de la valeur associée à la clé \"kitchen\"\n",
        "print(dict_area[\"kitchen\"])\n",
        "\n",
        "# Initialisation de dict_area avec des listes comme valeurs\n",
        "dict_area = {\"Tarzs\":[20, 20, 15], \"Yasmine\":[18,20]}\n",
        "# Accès et affichage du deuxième élément de la liste associée à la clé \"Tarzs\"\n",
        "print(dict_area[\"Tarzs\"][1])\n",
        "\n",
        "# Réinitialisation de dict_area\n",
        "dict_area = {\"hallway\":11.25, \"kitchen\":18}\n",
        "# Affichage du dictionnaire\n",
        "print(dict_area)\n",
        "\n",
        "# Création d'un nouveau dictionnaire vide\n",
        "new_dict = dict()\n",
        "\n",
        "# Méthode 1 pour remplir le dictionnaire\n",
        "# Boucle sur les indices de area_name et area_size pour peupler new_dict\n",
        "for i in range(len(area_name)):\n",
        "  # Assignation de chaque valeur de area_size à la clé correspondante dans area_name\n",
        "  new_dict[area_name[i]] = area_size[i]\n",
        "\n",
        "# Affichage du dictionnaire nouvellement créé\n",
        "print(new_dict)\n"
      ]
    },
    {
      "cell_type": "code",
      "execution_count": null,
      "metadata": {
        "colab": {
          "base_uri": "https://localhost:8080/"
        },
        "id": "FyZ7Yd3qOEe4",
        "outputId": "d153e6ba-c5ff-4243-c9bd-c48e49ad85d8"
      },
      "outputs": [
        {
          "data": {
            "text/plain": [
              "{'coco': 2, 'banane': 5, 'fraise': 25}"
            ]
          },
          "execution_count": 44,
          "metadata": {},
          "output_type": "execute_result"
        }
      ],
      "source": [
        "def lower_dict(new_dict):\n",
        "    \"\"\"\n",
        "    Convertit les clés d'un dictionnaire en minuscules.\n",
        "\n",
        "    Parameters:\n",
        "    new_dict (dict): Dictionnaire dont les clés seront converties en minuscules.\n",
        "\n",
        "    Returns:\n",
        "    dict: Nouveau dictionnaire avec les clés en minuscules.\n",
        "    \"\"\"\n",
        "    # Transformation des clés en liste et conversion en minuscules\n",
        "    key_list = list(new_dict.keys())\n",
        "    lower_key_list = [unit_key.lower() for unit_key in key_list]\n",
        "\n",
        "    # Transformation des valeurs en liste\n",
        "    value_list = list(new_dict.values())\n",
        "\n",
        "    # Création d'un nouveau dictionnaire\n",
        "    new_dict = dict()\n",
        "    for i in range(len(value_list)):\n",
        "        # Assignation des valeurs aux nouvelles clés en minuscules\n",
        "        new_dict[lower_key_list[i]] = value_list[i]\n",
        "    return new_dict\n",
        "\n",
        "# Appel de la fonction avec un dictionnaire exemple\n",
        "print(lower_dict({\"Coco\":2, \"Banane\":5, \"Fraise\":25}))\n",
        "\n",
        "# Note: La deuxième fonction que vous avez fournie semble être une version incomplète ou erronée de la première.\n",
        "# Assurez-vous de fournir une version correcte si vous souhaitez des commentaires ou des docstrings pour celle-ci également.\n",
        "\n",
        "\n"
      ]
    },
    {
      "cell_type": "code",
      "execution_count": null,
      "metadata": {
        "colab": {
          "base_uri": "https://localhost:8080/"
        },
        "id": "LxwYIb7zNdPv",
        "outputId": "234709ae-9624-4878-ddb1-591ec3f8f7dd"
      },
      "outputs": [
        {
          "data": {
            "text/plain": [
              "dict_keys"
            ]
          },
          "execution_count": 43,
          "metadata": {},
          "output_type": "execute_result"
        }
      ],
      "source": [
        "# Retournera : <class 'dict_keys'>\n",
        "type(dict_area.keys())\n"
      ]
    },
    {
      "cell_type": "markdown",
      "metadata": {
        "id": "jEKRo7qkyMdJ"
      },
      "source": [
        "# Manipuler une chaîne de caractères comme une liste"
      ]
    },
    {
      "cell_type": "code",
      "execution_count": null,
      "metadata": {
        "colab": {
          "base_uri": "https://localhost:8080/",
          "height": 35
        },
        "id": "NGCBftBMNb5T",
        "outputId": "f9f60667-f849-4e60-c770-0e827f8a5c03"
      },
      "outputs": [
        {
          "data": {
            "application/vnd.google.colaboratory.intrinsic+json": {
              "type": "string"
            },
            "text/plain": [
              "'Alb'"
            ]
          },
          "execution_count": 46,
          "metadata": {},
          "output_type": "execute_result"
        }
      ],
      "source": [
        "name = \"Albert\"\n",
        "# La fonction type() retournera <class 'str'>, indiquant que \"name\" est une chaîne de caractères.\n",
        "print(type(name))  # Affichera : <class 'str'>\n",
        "\n",
        "# name[0:3] extrait les caractères de l'indice 0 à l'indice 2 (3 est exclus) de la chaîne \"name\".\n",
        "# Cela retournera 'Alb'.\n",
        "print(name[0:3])  # Affichera : 'Alb'\n"
      ]
    },
    {
      "cell_type": "markdown",
      "metadata": {
        "id": "l2EFVTK_yjv4"
      },
      "source": [
        "# Tuple\n",
        "### Un tuple est une collection ordonnée et immuable d'éléments, définie par des parenthèses ( )."
      ]
    },
    {
      "cell_type": "code",
      "execution_count": null,
      "metadata": {
        "colab": {
          "base_uri": "https://localhost:8080/"
        },
        "id": "W5avqyScNYZL",
        "outputId": "1c58525f-0281-4caa-f4b6-2ee7a9466a23"
      },
      "outputs": [
        {
          "name": "stdout",
          "output_type": "stream",
          "text": [
            "(1, 2)\n",
            "La longueur est 10\n",
            "La largeur est 5\n"
          ]
        },
        {
          "data": {
            "text/plain": [
              "6"
            ]
          },
          "execution_count": 64,
          "metadata": {},
          "output_type": "execute_result"
        }
      ],
      "source": [
        "x = (1, 2)\n",
        "# Affiche le tuple x\n",
        "print(x)  # Affichera : (1, 2)\n",
        "# Affiche le type de x, qui sera <class 'tuple'>\n",
        "print(type(x))  # Affichera : <class 'tuple'>\n",
        "# Accède et affiche le premier élément du tuple\n",
        "print(x[0])  # Affichera : 1\n",
        "# Accède et affiche le deuxième élément du tuple\n",
        "print(x[1])  # Affichera : 2\n",
        "\n",
        "aire_rect = (5, 10, 5, 5, 5, 5, True, \"coucou\")\n",
        "\n",
        "# Décomposition du tuple en deux variables l et L\n",
        "l, L = (5, 10)\n",
        "# Affiche la longueur et la largeur\n",
        "print(\"La longueur est\", L)  # Affichera : La longueur est 10\n",
        "print(\"La largeur est\", l)   # Affichera : La largeur est 5\n",
        "\n",
        "# Fonction qui prend un dictionnaire en entrée et retourne un nouveau dictionnaire avec des valeurs doublées\n",
        "def double_val_dic(dico):\n",
        "    \"\"\"\n",
        "    Double les valeurs de chaque élément dans le dictionnaire d'entrée.\n",
        "\n",
        "    Parameters:\n",
        "    dico (dict): Dictionnaire d'entrée avec des valeurs à doubler.\n",
        "\n",
        "    Returns:\n",
        "    dict: Nouveau dictionnaire avec des valeurs doublées.\n",
        "    \"\"\"\n",
        "    new_dict = {}\n",
        "    for dict_item in list(dico.items()):\n",
        "        new_dict[dict_item[0]] = 2 * dict_item[1]\n",
        "    return new_dict\n",
        "\n",
        "# Appel de la fonction avec un dictionnaire exemple\n",
        "print(double_val_dic({1: 1, 2: 2, 3: 3}))  # Affichera : {1: 2, 2: 4, 3: 6}\n",
        "\n",
        "# Trouve et affiche l'indice de la valeur True dans le tuple aire_rect\n",
        "print(aire_rect.index(True))  # Affichera l'indice de True dans le tuple aire_rect\n"
      ]
    },
    {
      "cell_type": "markdown",
      "metadata": {
        "id": "IH1RBKpJ2sh-"
      },
      "source": [
        "## Set\n",
        "### Un set est une collection non ordonnée, non indexée et modifiable d'éléments uniques. En Python, un set est utilisé pour stocker plusieurs éléments dans une seule variable."
      ]
    },
    {
      "cell_type": "code",
      "execution_count": null,
      "metadata": {
        "colab": {
          "background_save": true,
          "base_uri": "https://localhost:8080/"
        },
        "id": "K7K8j0pbztQA",
        "outputId": "414e36df-47f4-40d0-dbd1-3b177608e3e9"
      },
      "outputs": [
        {
          "name": "stdout",
          "output_type": "stream",
          "text": [
            "[2, 2, 2, 2, 4, 5]\n",
            "6\n",
            "{2, 4, 5}\n",
            "3\n"
          ]
        },
        {
          "data": {
            "text/plain": [
              "{2}"
            ]
          },
          "execution_count": 70,
          "metadata": {},
          "output_type": "execute_result"
        }
      ],
      "source": [
        "# Création d'un ensemble vide\n",
        "s = set()  # Note: {} créera un dictionnaire vide, pas un ensemble\n",
        "# s = {} créera un dictionnaire vide\n",
        "\n",
        "# Définition de deux ensembles avec des valeurs\n",
        "s1 = {2, 4, 5}\n",
        "s2 = {2, 6, 9}\n",
        "\n",
        "# Conversion d'une liste avec des valeurs répétées en un ensemble (qui ne contient que des valeurs uniques)\n",
        "l = [2, 2, 2, 2, 4, 5]\n",
        "s_to_l = set(l)\n",
        "# Affichage de la liste originale\n",
        "print(l)  # Affichera : [2, 2, 2, 2, 4, 5]\n",
        "# Affichage de la longueur de la liste originale\n",
        "print(len(l))  # Affichera : 6 (car il y a six éléments dans la liste)\n",
        "# Affichage de l'ensemble converti (notez que les valeurs répétées sont éliminées)\n",
        "print(s_to_l)  # Affichera : {2, 4, 5}\n",
        "# Affichage de la longueur de l'ensemble converti\n",
        "print(len(s_to_l))  # Affichera : 3 (car les valeurs répétées sont éliminées dans un ensemble)\n",
        "\n",
        "# Pour utiliser la méthode difference(), vous devez spécifier l'autre ensemble avec lequel effectuer la comparaison\n",
        "# Par exemple, pour trouver les éléments qui sont dans s1 mais pas dans s2 :\n",
        "print(s1.difference(s2))  # Affichera : {4, 5}\n"
      ]
    },
    {
      "cell_type": "code",
      "execution_count": null,
      "metadata": {
        "id": "xtHXqooU0wiw"
      },
      "outputs": [],
      "source": [
        "[('Marcus Garvey Park', ('Black', 'Cinnamon', 'Cleaning', None)),\n",
        " ('Highbridge Park',\n",
        "  ('Gray',\n",
        "   'Cinnamon',\n",
        "   'Running, Eating',\n",
        "   'Runs From, watches us in short tree')),\n",
        " ('Madison Square Park', ('Gray', None, 'Foraging', 'Indifferent')),\n",
        " ('City Hall Park', ('Gray', 'Cinnamon', 'Eating', 'Approaches')),\n",
        " ('J. Hood Wright Park', ('Gray', 'White', 'Running', 'Indifferent')),\n",
        " ('Seward Park', ('Gray', 'Cinnamon', 'Eating', 'Indifferent')),\n",
        " ('Union Square Park', ('Gray', 'Black', 'Climbing', None)),\n",
        " ('Tompkins Square Park', ('Gray', 'Gray', 'Lounging', 'Approaches'))]"
      ]
    },
    {
      "cell_type": "markdown",
      "metadata": {
        "id": "aD3TN3MNhLRy"
      },
      "source": [
        "# Booléen\n",
        "\n",
        "Il fonctionnera exactement comme la clause WHERE en SQL."
      ]
    },
    {
      "cell_type": "code",
      "execution_count": null,
      "metadata": {
        "colab": {
          "base_uri": "https://localhost:8080/"
        },
        "id": "yhbd7kiKf3dP",
        "outputId": "90796128-3d08-41d2-aa8a-04086eb80860"
      },
      "outputs": [
        {
          "name": "stdout",
          "output_type": "stream",
          "text": [
            "True\n",
            "False\n"
          ]
        }
      ],
      "source": [
        "def is_even(number):\n",
        "    \"\"\"\n",
        "    Vérifie si un nombre est pair.\n",
        "\n",
        "    Parameters:\n",
        "    number (int): Le nombre à vérifier.\n",
        "\n",
        "    Returns:\n",
        "    bool: True si le nombre est pair, False sinon.\n",
        "    \"\"\"\n",
        "    return number % 2 == 0  # Retourne True si le reste de la division de number par 2 est égal à 0 (pair), sinon False\n",
        "\n",
        "# Appel de la fonction avec le nombre 2\n",
        "print(is_even(2))  # Affichera : True, car 2 est un nombre pair\n",
        "\n",
        "# Appel de la fonction avec le nombre 3\n",
        "print(is_even(3))  # Affichera : False, car 3 n'est pas un nombre pair\n"
      ]
    },
    {
      "cell_type": "markdown",
      "metadata": {
        "id": "dNoS4766i7ae"
      },
      "source": [
        "# Listes\n",
        "Les listes sont composées de différents éléments appelés items."
      ]
    },
    {
      "cell_type": "code",
      "execution_count": null,
      "metadata": {
        "colab": {
          "base_uri": "https://localhost:8080/"
        },
        "id": "oX3D7Np6jCIB",
        "outputId": "5edaee2b-58df-4ef7-a0a6-ebb4f2b0fbdf"
      },
      "outputs": [
        {
          "name": "stdout",
          "output_type": "stream",
          "text": [
            "[1, 2, 'e']\n",
            "[1, 2, 'e', 'Hello']\n",
            "[1, 2, 'e']\n",
            "[2, 'e']\n"
          ]
        }
      ],
      "source": [
        "# the type is list\n",
        "type([1,2,3,4,7])\n",
        "\n",
        "# assign l to a list\n",
        "l = [1,2,3,4,7,5]\n",
        "\n",
        "# check what is the first value of l\n",
        "l[0]\n",
        "\n",
        "# let's change the 3rd value to 1\n",
        "l[2] = 1\n",
        "l\n",
        "\n",
        "# let's see the value of the last element\n",
        "l[-1]\n",
        "\n",
        "# let's see all the elements before the last one\n",
        "l[:-1]\n",
        "l[0:-1] # Galaad\n",
        "\n",
        "# let's see all the elements from the 3 position to the end\n",
        "l[2:]\n",
        "\n",
        "\n",
        "# let's reverse the order of the list l\n",
        "l[::-1]\n",
        "\n",
        "# let's take the 2 first elements and reverse the order\n",
        "l[0:2][::-1]\n",
        "l[0:2:-1] # doesn't work because first it reverse the list\n",
        "l[0:2:-1]\n",
        "\n",
        "# slice the list. Let's work only on the sub list from the 1st to the 3rd position\n",
        "l[0:2] # Going from position 1 to position 2\n",
        "l[0:3] # Going from position 1 to position 3\n",
        "[l[0],l[3]] # Taking only values of position 1 and position 4\n",
        "\n",
        "# Create a list with boolean, int, float and string\n",
        "new_list = [True,1,2.5,\"abc\"]\n",
        "new_list\n",
        "\n",
        "# Create a list of a list\n",
        "\n",
        "even_odd_list = [1,3,5,7,2,4,6]\n",
        "even_odd_list = [[1,3,5,7],[2,4,6]]\n",
        "# Retrieve the 2nd element of the 2nd list\n",
        "even_odd_list[1][1]\n",
        "\n",
        "new_list = [[1,3,5,7],[2,4,[1,3,5,7],[2,4,6],6],[2,4,6]]\n",
        "\n",
        "\n"
      ]
    },
    {
      "cell_type": "code",
      "execution_count": null,
      "metadata": {
        "colab": {
          "base_uri": "https://localhost:8080/"
        },
        "id": "Sh466BmO-aj2",
        "outputId": "6d107219-0abb-48e0-f690-a588aa207096"
      },
      "outputs": [
        {
          "data": {
            "text/plain": [
              "[3, 2, 1]"
            ]
          },
          "execution_count": 60,
          "metadata": {},
          "output_type": "execute_result"
        }
      ],
      "source": [
        "l = [1,2,3,4,7]\n",
        "new_l = l[2::-1]# le type est list\n",
        "print(type([1,2,3,4,7]))  # Affichera : <class 'list'>\n",
        "\n",
        "# assignation de l à une liste\n",
        "l = [1,2,3,4,7,5]\n",
        "\n",
        "# vérification de la première valeur de l\n",
        "print(l[0])  # Affichera : 1\n",
        "\n",
        "# changeons la 3ème valeur en 1\n",
        "l[2] = 1\n",
        "print(l)  # Affichera la liste modifiée\n",
        "\n",
        "# voyons la valeur du dernier élément\n",
        "print(l[-1])  # Affichera : 5\n",
        "\n",
        "# voyons tous les éléments avant le dernier\n",
        "print(l[:-1])  # Affichera tous les éléments sauf le dernier\n",
        "print(l[0:-1])  # Même chose\n",
        "\n",
        "# voyons tous les éléments à partir de la 3ème position jusqu'à la fin\n",
        "print(l[2:])  # Affichera : [1, 4, 7, 5]\n",
        "\n",
        "# inverser l'ordre de la liste l\n",
        "print(l[::-1])  # Affichera la liste inversée\n",
        "\n",
        "# prenons les 2 premiers éléments et inversons l'ordre\n",
        "print(l[0:2][::-1])  # Affichera les deux premiers éléments dans l'ordre inverse\n",
        "\n",
        "# travaillons sur la sous-liste allant de la 1ère à la 3ème position\n",
        "print(l[0:2])  # Affichera les deux premiers éléments\n",
        "print(l[0:3])  # Affichera les trois premiers éléments\n",
        "print([l[0],l[3]])  # Affichera les éléments aux positions 1 et 4\n",
        "\n",
        "# Création d'une liste avec des booléens, des entiers, des flottants et des chaînes de caractères\n",
        "new_list = [True,1,2.5,\"abc\"]\n",
        "print(new_list)  # Affichera la nouvelle liste\n",
        "\n",
        "# Création d'une liste de listes\n",
        "even_odd_list = [[1,3,5,7],[2,4,6]]\n",
        "# Récupération du 2ème élément de la 2ème liste\n",
        "print(even_odd_list[1][1])  # Affichera : 4\n",
        "\n",
        "# Autre exemple de liste de listes\n",
        "new_list = [[1,3,5,7],[2,4,[1,3,5,7],[2,4,6],6],[2,4,6]]\n",
        "# Vous pouvez ensuite accéder aux éléments de cette structure de données imbriquée comme montré précédemment\n",
        "\n",
        "new_l"
      ]
    },
    {
      "cell_type": "code",
      "execution_count": null,
      "metadata": {
        "colab": {
          "base_uri": "https://localhost:8080/"
        },
        "id": "uEghiXJ98_Hl",
        "outputId": "690b9b5f-a813-42cc-a99f-959eddf9f962"
      },
      "outputs": [
        {
          "data": {
            "text/plain": [
              "['hallway', 11.25, 'kitchen', 18.0, 'living room', 20.0, 'bedroom', 10.75]"
            ]
          },
          "execution_count": 31,
          "metadata": {},
          "output_type": "execute_result"
        }
      ],
      "source": [
        "hall = 11.25\n",
        "kit = 18.0\n",
        "liv = 20.0\n",
        "bed = 10.75\n",
        "bath = 9.50\n",
        "areas = [\"hallway\", hall, \"kitchen\", kit, \"living room\", liv,\n",
        "         \"bedroom\", bed, \"bathroom\", bath]\n",
        "\n",
        "# Affiche les quatre derniers éléments de la liste areas\n",
        "print(areas[-4:])  # Affichera : ['bedroom', 10.75, 'bathroom', 9.5]\n",
        "\n",
        "# Affiche tous les éléments de la liste areas sauf les deux derniers\n",
        "print(areas[:-2])  # Affichera : ['hallway', 11.25, 'kitchen', 18.0, 'living room', 20.0, 'bedroom', 10.75]\n"
      ]
    },
    {
      "cell_type": "markdown",
      "metadata": {
        "id": "pyqm5A3k31BV"
      },
      "source": [
        "## Les méthodes\n",
        "Les méthodes sont des fonctions intégrées aux objets, permettant d'effectuer des opérations spécifiques sur ces objets.\n",
        "\n"
      ]
    },
    {
      "cell_type": "code",
      "execution_count": null,
      "metadata": {
        "id": "Z47WOgVc360U"
      },
      "outputs": [],
      "source": [
        "new_list2 = [1, 2, \"e\"]\n",
        "print(new_list2)  # Affichera : [1, 2, 'e']\n",
        "\n",
        "# Ajouter l'élément \"Hello\" à la liste\n",
        "new_list2.append(\"Hello\")\n",
        "print(new_list2)  # Affichera : [1, 2, 'e', 'Hello']\n",
        "\n",
        "# Enlever le dernier élément ajouté à la liste\n",
        "new_list2.pop()\n",
        "print(new_list2)  # Affichera : [1, 2, 'e']\n",
        "\n",
        "# Pour connaître l'index, on utilise la méthode index\n",
        "# Je veux connaître la position de \"e\"\n",
        "print(new_list2.index(\"e\"))  # Affichera l'index de 'e' dans la liste\n",
        "\n",
        "# Pour enlever un élément spécifique\n",
        "# Enlevons le 1\n",
        "new_list2.remove(1)\n",
        "print(new_list2)  # Affichera : [2, 'e']\n"
      ]
    },
    {
      "cell_type": "markdown",
      "metadata": {
        "id": "1tc0rLjuhxyM"
      },
      "source": [
        "# Instruction conditionnelle\n",
        "Avec plus de deux options"
      ]
    },
    {
      "cell_type": "code",
      "execution_count": null,
      "metadata": {
        "colab": {
          "base_uri": "https://localhost:8080/"
        },
        "id": "4bOvEbbVTdIi",
        "outputId": "afb4ffa6-a5f5-470a-b363-b4c77fa0f96b"
      },
      "outputs": [
        {
          "name": "stdout",
          "output_type": "stream",
          "text": [
            "10.75\n",
            "Try again with a correct room name\n"
          ]
        },
        {
          "data": {
            "text/plain": [
              "45"
            ]
          },
          "execution_count": 72,
          "metadata": {},
          "output_type": "execute_result"
        }
      ],
      "source": [
        "\n",
        "def surface_room(room_name):\n",
        "    \"\"\"\n",
        "    Retourne la surface d'une pièce donnée en fonction de son nom.\n",
        "\n",
        "    Parameters:\n",
        "    room_name (str): Le nom de la pièce.\n",
        "\n",
        "    Returns:\n",
        "    float ou str: La surface de la pièce ou un message d'erreur si le nom de la pièce n'est pas reconnu.\n",
        "    \"\"\"\n",
        "    if room_name == \"hallway\":\n",
        "        res = hall\n",
        "    elif room_name == \"kitchen\":\n",
        "        res = kit\n",
        "    elif room_name == \"living room\":\n",
        "        res = liv\n",
        "    elif room_name == \"bathroom\":\n",
        "        res = bath\n",
        "    elif room_name == \"bedroom\":\n",
        "        res = bed\n",
        "    else:\n",
        "        res = \"Réessayez avec un nom de pièce correct\"\n",
        "    return res\n",
        "\n",
        "# Appel de la fonction avec \"bedroom\" comme argument\n",
        "print(surface_room(\"bedroom\"))  # Affichera la surface correspondant à 'bedroom' si la variable 'bed' est définie\n",
        "# Appel de la fonction avec \"BEDROOM\" comme argument\n",
        "print(surface_room(\"BEDROOM\"))  # Affichera le message d'erreur car \"BEDROOM\" ne correspond à aucun nom de pièce défini dans la fonction\n"
      ]
    },
    {
      "cell_type": "markdown",
      "metadata": {
        "id": "kC-5Ixtjh_FD"
      },
      "source": [
        "# For LOOP\n",
        "Une boucle for permet d'itérer sur les éléments d'une séquence (comme une liste, un tuple ou une chaîne), en exécutant un bloc de code pour chaque élément de cette séquence."
      ]
    },
    {
      "cell_type": "code",
      "execution_count": null,
      "metadata": {
        "colab": {
          "base_uri": "https://localhost:8080/"
        },
        "id": "VRVQeLZtiL2Q",
        "outputId": "88bab02f-ce8a-44cb-9fd4-f3365410383d"
      },
      "outputs": [
        {
          "name": "stdout",
          "output_type": "stream",
          "text": [
            "11.25\n",
            "18.0\n",
            "20.0\n",
            "10.75\n",
            "9.5\n"
          ]
        }
      ],
      "source": [
        "areas_name = [\"hallway\", \"kitchen\", \"living room\", \"bedroom\", \"bathroom\"]\n",
        "\n",
        "def surface_room(room_name):\n",
        "    \"\"\"\n",
        "    Retourne la surface d'une pièce donnée en fonction de son nom.\n",
        "\n",
        "    Parameters:\n",
        "    room_name (str): Le nom de la pièce.\n",
        "\n",
        "    Returns:\n",
        "    float ou str: La surface de la pièce ou un message d'erreur si le nom de la pièce n'est pas reconnu.\n",
        "    \"\"\"\n",
        "    room_name = room_name.lower()  # Convertit le nom de la pièce en minuscules pour éviter les problèmes de casse\n",
        "    if room_name == \"hallway\":\n",
        "        result = hall\n",
        "    elif room_name == \"kitchen\":\n",
        "        result = kit\n",
        "    elif room_name == \"living room\":\n",
        "        result = liv\n",
        "    elif room_name == \"bathroom\":\n",
        "        result = bath\n",
        "    elif room_name == \"bedroom\":\n",
        "        result = bed\n",
        "    else:\n",
        "        result = \"Réessayez avec un nom de pièce correct\"\n",
        "    return result\n",
        "\n",
        "# Appel de la fonction avec différents arguments\n",
        "print(surface_room(\"hall\"))  # Affichera le message d'erreur car \"hall\" n'est pas un nom de pièce valide\n",
        "print(surface_room(\"kit\"))   # Affichera le message d'erreur car \"kit\" n'est pas un nom de pièce valide\n",
        "print(surface_room(\"liv\"))   # Affichera le message d'erreur car \"liv\" n'est pas un nom de pièce valide\n",
        "\n",
        "# Boucle sur la liste areas_name et affiche la surface de chaque pièce\n",
        "for i in range(len(areas_name)):\n",
        "    print(surface_room(areas_name[i]))  # Affichera la surface de chaque pièce si les variables hall, kit, liv, bath, bed sont définies\n"
      ]
    },
    {
      "cell_type": "markdown",
      "metadata": {
        "id": "7j98FqZYx-V8"
      },
      "source": [
        "## Les listes de compréhensions\n",
        "Les listes de compréhension sont une manière concise de créer des listes en Python. Elles permettent d'exprimer des boucles for et des conditions if en une seule ligne, générant ainsi des éléments de liste de manière plus lisible et souvent plus efficace."
      ]
    },
    {
      "cell_type": "code",
      "execution_count": null,
      "metadata": {
        "colab": {
          "base_uri": "https://localhost:8080/"
        },
        "id": "O-25TZ2RgZm5",
        "outputId": "89347e15-4458-4ae1-842d-8948a3705816"
      },
      "outputs": [
        {
          "name": "stdout",
          "output_type": "stream",
          "text": [
            "[11.25, 18.0, 20.0, 10.75, 9.5]\n",
            "['hallway', 'kitchen', 'living room', 'bedroom', 'bathroom']\n"
          ]
        },
        {
          "data": {
            "text/plain": [
              "[9.5]"
            ]
          },
          "execution_count": 94,
          "metadata": {},
          "output_type": "execute_result"
        }
      ],
      "source": [
        "surface_list = []\n",
        "for i in areas_name:\n",
        "    surface_list.append(surface_room(i))  # Ajoute la surface de chaque pièce à la liste surface_list en utilisant une boucle for\n",
        "\n",
        "# Liste de compréhension\n",
        "# Crée et affiche une liste des surfaces de chaque pièce en une seule ligne\n",
        "print([surface_room(room) for room in areas_name])\n",
        "\n",
        "# Affiche la liste areas_name\n",
        "print(areas_name)\n",
        "\n",
        "# Liste de compréhension avec condition\n",
        "# Crée et affiche une liste des surfaces des pièces dont le nom a une longueur entre 7 et 10 caractères\n",
        "print([surface_room(room) for room in areas_name if len(room) < 10 and len(room) > 7])\n"
      ]
    },
    {
      "cell_type": "code",
      "execution_count": null,
      "metadata": {
        "colab": {
          "base_uri": "https://localhost:8080/"
        },
        "id": "s6xF7-jvwXvd",
        "outputId": "8ea9b868-6a01-43a1-d104-067275b86e37"
      },
      "outputs": [
        {
          "data": {
            "text/plain": [
              "list[0]"
            ]
          },
          "execution_count": 85,
          "metadata": {},
          "output_type": "execute_result"
        }
      ],
      "source": [
        "# Supposons que nous ayons une liste nommée 'liste'\n",
        "liste = [1, 2, 3, 4, 5]\n",
        "\n",
        "# Initialisation de la variable 'max' avec la première valeur de la liste\n",
        "maxi = liste[0]\n",
        "print(maxi)  # Affichera la première valeur de la liste"
      ]
    }
  ],
  "metadata": {
    "colab": {
      "provenance": []
    },
    "kernelspec": {
      "display_name": "Python 3",
      "name": "python3"
    },
    "language_info": {
      "name": "python"
    }
  },
  "nbformat": 4,
  "nbformat_minor": 0
}